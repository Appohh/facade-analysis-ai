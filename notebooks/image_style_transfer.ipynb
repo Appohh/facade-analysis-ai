{
 "cells": [
  {
   "cell_type": "markdown",
   "id": "2bcb49eb",
   "metadata": {},
   "source": [
    "# This is the notebook where I resized all images and augmented the sketches before training the model."
   ]
  },
  {
   "cell_type": "markdown",
   "id": "7ce91642",
   "metadata": {},
   "source": [
    "### There is no code for the model. I trained it in the terminal and tested it directly inside the folders i pushed"
   ]
  },
  {
   "cell_type": "markdown",
   "id": "e146938e",
   "metadata": {},
   "source": [
    "augmentation:"
   ]
  },
  {
   "cell_type": "code",
   "execution_count": 5,
   "id": "1bc842dd",
   "metadata": {},
   "outputs": [
    {
     "name": "stdout",
     "output_type": "stream",
     "text": [
      "Augmenting 50 images to reach ~350 total (≈7 per image).\n",
      "Done. 350 images saved to '../augmented_photos' folder.\n"
     ]
    }
   ],
   "source": [
    "import os\n",
    "from PIL import Image\n",
    "import torchvision.transforms as transforms\n",
    "import random\n",
    "\n",
    "# Paths\n",
    "input_dir = '../resized_additional_photos'\n",
    "output_dir = '../augmented_photos'\n",
    "os.makedirs(output_dir, exist_ok=True)\n",
    "\n",
    "# Define the augmentation pipeline\n",
    "augmentations = transforms.Compose([\n",
    "    transforms.RandomHorizontalFlip(p=0.7),\n",
    "    transforms.RandomRotation(degrees=5),\n",
    "    transforms.ColorJitter(brightness=0.1, contrast=0.1),\n",
    "    transforms.RandomAffine(degrees=2, translate=(0.03, 0.03), scale=(0.97, 1.03)),\n",
    "])\n",
    "\n",
    "# Parameters\n",
    "target_total = 350\n",
    "original_images = [f for f in os.listdir(input_dir) if f.lower().endswith(('.png', '.jpg', '.jpeg'))]\n",
    "n_original = len(original_images)\n",
    "augmentations_per_image = (target_total // n_original) - 1  # minus 1 to include the original\n",
    "\n",
    "print(f\"Augmenting {n_original} images to reach ~{target_total} total (≈{augmentations_per_image+1} per image).\")\n",
    "\n",
    "counter = 0\n",
    "for img_name in original_images:\n",
    "    img_path = os.path.join(input_dir, img_name)\n",
    "    image = Image.open(img_path).convert(\"RGB\")\n",
    "\n",
    "    # Save the original image\n",
    "    image.save(os.path.join(output_dir, f\"{counter:04d}_original.png\"))\n",
    "    counter += 1\n",
    "\n",
    "    for i in range(augmentations_per_image):\n",
    "        aug_img = augmentations(image)\n",
    "        aug_img.save(os.path.join(output_dir, f\"{counter:04d}_aug.png\"))\n",
    "        counter += 1\n",
    "\n",
    "print(f\"Done. {counter} images saved to '{output_dir}' folder.\")"
   ]
  },
  {
   "cell_type": "markdown",
   "id": "19acc545",
   "metadata": {},
   "source": [
    "resizing:"
   ]
  },
  {
   "cell_type": "code",
   "execution_count": 6,
   "id": "210db447",
   "metadata": {},
   "outputs": [
    {
     "name": "stdout",
     "output_type": "stream",
     "text": [
      "✅ Done resizing all images to 256x256.\n"
     ]
    }
   ],
   "source": [
    "# Input and output folders\n",
    "input_folder = '../real facades'  # your original images\n",
    "output_folder = '../resized_facades'    # where resized images will go\n",
    "os.makedirs(output_folder, exist_ok=True)\n",
    "\n",
    "# Resize each image\n",
    "for filename in os.listdir(input_folder):\n",
    "    if filename.lower().endswith(('.png', '.jpg', '.jpeg')):\n",
    "        img_path = os.path.join(input_folder, filename)\n",
    "        img = Image.open(img_path).convert(\"RGB\")\n",
    "        img_resized = img.resize((256, 256), Image.Resampling.LANCZOS)\n",
    "        \n",
    "        output_path = os.path.join(output_folder, filename)\n",
    "        img_resized.save(output_path)\n",
    "\n",
    "print(\"✅ Done resizing all images to 256x256.\")"
   ]
  }
 ],
 "metadata": {
  "kernelspec": {
   "display_name": "venv",
   "language": "python",
   "name": "python3"
  },
  "language_info": {
   "codemirror_mode": {
    "name": "ipython",
    "version": 3
   },
   "file_extension": ".py",
   "mimetype": "text/x-python",
   "name": "python",
   "nbconvert_exporter": "python",
   "pygments_lexer": "ipython3",
   "version": "3.10.7"
  }
 },
 "nbformat": 4,
 "nbformat_minor": 5
}
